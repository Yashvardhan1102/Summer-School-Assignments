{
  "nbformat": 4,
  "nbformat_minor": 0,
  "metadata": {
    "colab": {
      "provenance": [],
      "authorship_tag": "ABX9TyPOkaohz8s5B82ny6IKu9Fj",
      "include_colab_link": true
    },
    "kernelspec": {
      "name": "python3",
      "display_name": "Python 3"
    },
    "language_info": {
      "name": "python"
    }
  },
  "cells": [
    {
      "cell_type": "markdown",
      "metadata": {
        "id": "view-in-github",
        "colab_type": "text"
      },
      "source": [
        "<a href=\"https://colab.research.google.com/github/Yashvardhan1102/Summer-School-Assignments/blob/main/Copy_of_Assignment_01%2C02.ipynb\" target=\"_parent\"><img src=\"https://colab.research.google.com/assets/colab-badge.svg\" alt=\"Open In Colab\"/></a>"
      ]
    },
    {
      "cell_type": "markdown",
      "source": [
        "Assignment- 01"
      ],
      "metadata": {
        "id": "mKWPUDkf4Z7S"
      }
    },
    {
      "cell_type": "markdown",
      "source": [
        "1.1"
      ],
      "metadata": {
        "id": "gcotuFN54qiE"
      }
    },
    {
      "cell_type": "code",
      "source": [
        "L=[11,12,13,14]\n",
        "L.append(50)\n",
        "L.append(60)\n",
        "print(L)"
      ],
      "metadata": {
        "colab": {
          "base_uri": "https://localhost:8080/"
        },
        "id": "QV6qbpwH5Cbd",
        "outputId": "feeab76e-72d8-4519-c15e-df8b08c1c5f8"
      },
      "execution_count": null,
      "outputs": [
        {
          "output_type": "stream",
          "name": "stdout",
          "text": [
            "[11, 12, 13, 14, 50, 60]\n"
          ]
        }
      ]
    },
    {
      "cell_type": "markdown",
      "source": [
        "1.2"
      ],
      "metadata": {
        "id": "bbAv8FSx5a3J"
      }
    },
    {
      "cell_type": "code",
      "source": [
        "del L[0]\n",
        "print(L)\n",
        "del L[1]\n",
        "print(L)"
      ],
      "metadata": {
        "colab": {
          "base_uri": "https://localhost:8080/"
        },
        "id": "w1_SECuJ6an2",
        "outputId": "af8ecadd-9b4e-459c-952a-2144655371a5"
      },
      "execution_count": null,
      "outputs": [
        {
          "output_type": "stream",
          "name": "stdout",
          "text": [
            "[12, 13, 14, 50, 60]\n",
            "[12, 14, 50, 60]\n"
          ]
        }
      ]
    },
    {
      "cell_type": "markdown",
      "source": [
        "1.3"
      ],
      "metadata": {
        "id": "-cNaE5SO6p8d"
      }
    },
    {
      "cell_type": "code",
      "source": [
        "L.sort() #ascending\n",
        "print(L) \n"
      ],
      "metadata": {
        "colab": {
          "base_uri": "https://localhost:8080/"
        },
        "id": "vP2JwrQS6q7q",
        "outputId": "c0648b10-2cb6-4911-ab1f-659f6aa0459f"
      },
      "execution_count": null,
      "outputs": [
        {
          "output_type": "stream",
          "name": "stdout",
          "text": [
            "[12, 14, 50, 60]\n"
          ]
        }
      ]
    },
    {
      "cell_type": "markdown",
      "source": [
        "1.4"
      ],
      "metadata": {
        "id": "ssG-JVMu7TGZ"
      }
    },
    {
      "cell_type": "code",
      "source": [
        "L.sort(reverse=True) #descending\n",
        "print(L)"
      ],
      "metadata": {
        "colab": {
          "base_uri": "https://localhost:8080/"
        },
        "id": "o5x29pAM7U6h",
        "outputId": "19ec4922-2c52-4d57-aa72-7d146ef854b4"
      },
      "execution_count": null,
      "outputs": [
        {
          "output_type": "stream",
          "name": "stdout",
          "text": [
            "[60, 50, 14, 12]\n"
          ]
        }
      ]
    },
    {
      "cell_type": "markdown",
      "source": [
        "1.5"
      ],
      "metadata": {
        "id": "fQcwAUzw7t4h"
      }
    },
    {
      "cell_type": "code",
      "source": [
        "if 13 in L:\n",
        "    print(\"13 found in the list.\")\n",
        "else:\n",
        "    print(\"13 not found in the list.\")"
      ],
      "metadata": {
        "colab": {
          "base_uri": "https://localhost:8080/"
        },
        "id": "j9rxIdYh7vbU",
        "outputId": "7c8cfcbc-0f2c-442a-9998-8d4f1ee44d2b"
      },
      "execution_count": null,
      "outputs": [
        {
          "output_type": "stream",
          "name": "stdout",
          "text": [
            "13 not found in the list.\n"
          ]
        }
      ]
    },
    {
      "cell_type": "markdown",
      "source": [
        "1.6"
      ],
      "metadata": {
        "id": "qBU9bVrf7-4e"
      }
    },
    {
      "cell_type": "code",
      "source": [
        "count = len(L)\n",
        "print(\"Number of elements in the list:\", count)"
      ],
      "metadata": {
        "colab": {
          "base_uri": "https://localhost:8080/"
        },
        "id": "xW4LF-dO8ARx",
        "outputId": "90366e85-acfc-4f4e-f8f7-bbbd65ffb116"
      },
      "execution_count": null,
      "outputs": [
        {
          "output_type": "stream",
          "name": "stdout",
          "text": [
            "Number of elements in the list: 4\n"
          ]
        }
      ]
    },
    {
      "cell_type": "markdown",
      "source": [
        "1.7"
      ],
      "metadata": {
        "id": "D_8anWCk8Nl1"
      }
    },
    {
      "cell_type": "code",
      "source": [
        "s=0\n",
        "for i in L:\n",
        "  s+=i\n",
        "print(\"sum of list=\",s)"
      ],
      "metadata": {
        "colab": {
          "base_uri": "https://localhost:8080/"
        },
        "id": "u0mTElgm8Oml",
        "outputId": "adbaae1f-8712-4877-a5c6-7d6d0dd08e51"
      },
      "execution_count": null,
      "outputs": [
        {
          "output_type": "stream",
          "name": "stdout",
          "text": [
            "sum of list= 136\n"
          ]
        }
      ]
    },
    {
      "cell_type": "markdown",
      "source": [
        "1.8"
      ],
      "metadata": {
        "id": "6NnbO6408dOq"
      }
    },
    {
      "cell_type": "code",
      "source": [
        "sum_odd = sum(num for num in L if num % 2 != 0)\n",
        "print(\"Sum of all odd numbers:\", sum_odd)"
      ],
      "metadata": {
        "colab": {
          "base_uri": "https://localhost:8080/"
        },
        "id": "Td_J6RDY8eZJ",
        "outputId": "7150eba3-9662-4051-b247-a57ecd8df502"
      },
      "execution_count": null,
      "outputs": [
        {
          "output_type": "stream",
          "name": "stdout",
          "text": [
            "Sum of all odd numbers: 0\n"
          ]
        }
      ]
    },
    {
      "cell_type": "markdown",
      "source": [
        "1.9"
      ],
      "metadata": {
        "id": "rDbHFVsa8xcS"
      }
    },
    {
      "cell_type": "code",
      "source": [
        "sum_odd = sum(num for num in L if num % 2 == 0)\n",
        "print(\"Sum of all odd numbers:\", sum_odd)"
      ],
      "metadata": {
        "colab": {
          "base_uri": "https://localhost:8080/"
        },
        "id": "h4VXC_Ii8y0t",
        "outputId": "9ad322e5-4c8b-47ba-88fe-f660162ca8a7"
      },
      "execution_count": null,
      "outputs": [
        {
          "output_type": "stream",
          "name": "stdout",
          "text": [
            "Sum of all odd numbers: 136\n"
          ]
        }
      ]
    },
    {
      "cell_type": "markdown",
      "source": [
        "1.10"
      ],
      "metadata": {
        "id": "S5oIz2H488lf"
      }
    },
    {
      "cell_type": "code",
      "source": [
        "import math\n",
        "def is_prime(num):\n",
        "    if num < 2:\n",
        "        return False\n",
        "    for i in range(2, int(math.sqrt(num)) + 1):\n",
        "        if num % i == 0:\n",
        "            return False\n",
        "    return True\n",
        "sum_prime = sum(num for num in L if is_prime(num))\n",
        "print(\"Sum of all prime numbers:\", sum_prime)"
      ],
      "metadata": {
        "colab": {
          "base_uri": "https://localhost:8080/"
        },
        "id": "NcKzruXm89oD",
        "outputId": "adb40151-b946-4190-da03-1013c9c84f93"
      },
      "execution_count": null,
      "outputs": [
        {
          "output_type": "stream",
          "name": "stdout",
          "text": [
            "Sum of all prime numbers: 0\n"
          ]
        }
      ]
    },
    {
      "cell_type": "markdown",
      "source": [
        "1.11"
      ],
      "metadata": {
        "id": "SUv5R3Ly9MCw"
      }
    },
    {
      "cell_type": "code",
      "source": [
        "L.clear()\n",
        "print(L)"
      ],
      "metadata": {
        "colab": {
          "base_uri": "https://localhost:8080/"
        },
        "id": "rmOgRLGi9OQ3",
        "outputId": "ceb36aff-8ff1-461d-c8ef-c7153ff91c36"
      },
      "execution_count": null,
      "outputs": [
        {
          "output_type": "stream",
          "name": "stdout",
          "text": [
            "[]\n"
          ]
        }
      ]
    },
    {
      "cell_type": "markdown",
      "source": [
        "1.12"
      ],
      "metadata": {
        "id": "8Qi3XLLF9Yut"
      }
    },
    {
      "cell_type": "code",
      "source": [
        "del L\n",
        "print(L)"
      ],
      "metadata": {
        "colab": {
          "base_uri": "https://localhost:8080/",
          "height": 183
        },
        "id": "gUySFtDp9ZuT",
        "outputId": "668f0345-f4e0-4b88-d0e2-7e51cd49eb48"
      },
      "execution_count": null,
      "outputs": [
        {
          "output_type": "error",
          "ename": "NameError",
          "evalue": "ignored",
          "traceback": [
            "\u001b[0;31m---------------------------------------------------------------------------\u001b[0m",
            "\u001b[0;31mNameError\u001b[0m                                 Traceback (most recent call last)",
            "\u001b[0;32m<ipython-input-28-a090824c5da0>\u001b[0m in \u001b[0;36m<cell line: 2>\u001b[0;34m()\u001b[0m\n\u001b[1;32m      1\u001b[0m \u001b[0;32mdel\u001b[0m \u001b[0mL\u001b[0m\u001b[0;34m\u001b[0m\u001b[0;34m\u001b[0m\u001b[0m\n\u001b[0;32m----> 2\u001b[0;31m \u001b[0mprint\u001b[0m\u001b[0;34m(\u001b[0m\u001b[0mL\u001b[0m\u001b[0;34m)\u001b[0m\u001b[0;34m\u001b[0m\u001b[0;34m\u001b[0m\u001b[0m\n\u001b[0m",
            "\u001b[0;31mNameError\u001b[0m: name 'L' is not defined"
          ]
        }
      ]
    },
    {
      "cell_type": "markdown",
      "source": [
        "2.1"
      ],
      "metadata": {
        "id": "B2EPkqHW9fED"
      }
    },
    {
      "cell_type": "code",
      "source": [
        "D = {1: 5.6, 2: 7.8, 3: 6.6, 4: 8.7, 5: 7.7}\n",
        "D[8] = 8.8\n",
        "print(\"After adding new entry:\", D)"
      ],
      "metadata": {
        "colab": {
          "base_uri": "https://localhost:8080/"
        },
        "id": "M1f7_fsA9ijc",
        "outputId": "257d039a-9b0c-448e-d7d4-98a21900f5be"
      },
      "execution_count": null,
      "outputs": [
        {
          "output_type": "stream",
          "name": "stdout",
          "text": [
            "After adding new entry: {1: 5.6, 2: 7.8, 3: 6.6, 4: 8.7, 5: 7.7, 8: 8.8}\n"
          ]
        }
      ]
    },
    {
      "cell_type": "markdown",
      "source": [
        "2.2"
      ],
      "metadata": {
        "id": "Bc3wo9Qt92oR"
      }
    },
    {
      "cell_type": "code",
      "source": [
        "del D[2]\n",
        "print(\"After removing key=2:\", D)\n"
      ],
      "metadata": {
        "colab": {
          "base_uri": "https://localhost:8080/"
        },
        "id": "Ai4nA_qi9-eP",
        "outputId": "5f89a52e-a3b1-4a5d-b8d6-f5b61a745e01"
      },
      "execution_count": null,
      "outputs": [
        {
          "output_type": "stream",
          "name": "stdout",
          "text": [
            "After removing key=2: {1: 5.6, 3: 6.6, 4: 8.7, 5: 7.7, 8: 8.8}\n"
          ]
        }
      ]
    },
    {
      "cell_type": "markdown",
      "source": [
        "2.3"
      ],
      "metadata": {
        "id": "q_4xwVK793-6"
      }
    },
    {
      "cell_type": "code",
      "source": [
        "if 6 in D:\n",
        "    print(\"Key=6 is present in the dictionary.\")\n",
        "else:\n",
        "    print(\"Key=6 is not present in the dictionary.\")\n"
      ],
      "metadata": {
        "colab": {
          "base_uri": "https://localhost:8080/"
        },
        "id": "e43ZW6sW9_ex",
        "outputId": "089a19bd-a7a3-49d0-bf45-cae48dd1c77b"
      },
      "execution_count": null,
      "outputs": [
        {
          "output_type": "stream",
          "name": "stdout",
          "text": [
            "Key=6 is not present in the dictionary.\n"
          ]
        }
      ]
    },
    {
      "cell_type": "markdown",
      "source": [
        "2.4"
      ],
      "metadata": {
        "id": "gwen4Gde94r-"
      }
    },
    {
      "cell_type": "code",
      "source": [
        "count = len(D)\n",
        "print(\"Number of elements in the dictionary:\", count)\n"
      ],
      "metadata": {
        "colab": {
          "base_uri": "https://localhost:8080/"
        },
        "id": "Rzcpr_ar-AGQ",
        "outputId": "f2462789-cb58-4622-eb1f-7c1bf6d90965"
      },
      "execution_count": null,
      "outputs": [
        {
          "output_type": "stream",
          "name": "stdout",
          "text": [
            "Number of elements in the dictionary: 5\n"
          ]
        }
      ]
    },
    {
      "cell_type": "markdown",
      "source": [
        "2.5"
      ],
      "metadata": {
        "id": "7baCRZ5-95Un"
      }
    },
    {
      "cell_type": "code",
      "source": [
        "sum_values = sum(D.values())\n",
        "print(\"Sum of all values:\", sum_values)\n"
      ],
      "metadata": {
        "colab": {
          "base_uri": "https://localhost:8080/"
        },
        "id": "ms1HZ3Gx-Apd",
        "outputId": "b3772930-7b75-4afd-ab03-e501e4ccc479"
      },
      "execution_count": null,
      "outputs": [
        {
          "output_type": "stream",
          "name": "stdout",
          "text": [
            "Sum of all values: 37.4\n"
          ]
        }
      ]
    },
    {
      "cell_type": "markdown",
      "source": [
        "2.6"
      ],
      "metadata": {
        "id": "HE1nRkZC96v5"
      }
    },
    {
      "cell_type": "code",
      "source": [
        "D[3] = 7.1\n",
        "print(\"After updating the value of key=3:\", D)"
      ],
      "metadata": {
        "colab": {
          "base_uri": "https://localhost:8080/"
        },
        "id": "gM_kEO8u-BN7",
        "outputId": "acb7bc84-b8e8-4f29-8a6b-13358b034a73"
      },
      "execution_count": null,
      "outputs": [
        {
          "output_type": "stream",
          "name": "stdout",
          "text": [
            "After updating the value of key=3: {1: 5.6, 3: 7.1, 4: 8.7, 5: 7.7, 8: 8.8}\n"
          ]
        }
      ]
    },
    {
      "cell_type": "markdown",
      "source": [
        "2.7"
      ],
      "metadata": {
        "id": "Nra3q1Oi97p1"
      }
    },
    {
      "cell_type": "code",
      "source": [
        "D.clear()\n",
        "print(\"After clearing the dictionary:\", D)"
      ],
      "metadata": {
        "colab": {
          "base_uri": "https://localhost:8080/"
        },
        "id": "gtDqV215980p",
        "outputId": "b970a869-00e6-4a45-f920-be3d0912d6da"
      },
      "execution_count": null,
      "outputs": [
        {
          "output_type": "stream",
          "name": "stdout",
          "text": [
            "After clearing the dictionary: {}\n"
          ]
        }
      ]
    },
    {
      "cell_type": "markdown",
      "source": [
        "3.1"
      ],
      "metadata": {
        "id": "RUwrK_WK-pYW"
      }
    },
    {
      "cell_type": "code",
      "source": [
        "S1 = {10, 20, 30, 40, 50, 60}\n",
        "S1.add(55)\n",
        "S1.add(66)\n",
        "print(\"After adding 55 and 66 in S1:\", S1)"
      ],
      "metadata": {
        "colab": {
          "base_uri": "https://localhost:8080/"
        },
        "id": "GjOvHOws-svt",
        "outputId": "ddc1db70-f086-45b3-f792-95e58befc0a4"
      },
      "execution_count": null,
      "outputs": [
        {
          "output_type": "stream",
          "name": "stdout",
          "text": [
            "After adding 55 and 66 in S1: {50, 66, 20, 55, 40, 10, 60, 30}\n"
          ]
        }
      ]
    },
    {
      "cell_type": "markdown",
      "source": [
        "3.2"
      ],
      "metadata": {
        "id": "tY-6bX4o-s_a"
      }
    },
    {
      "cell_type": "code",
      "source": [
        "S1.remove(10)\n",
        "S1.remove(30)\n",
        "print(\"After removing 10 and 30 from S1:\", S1)\n"
      ],
      "metadata": {
        "colab": {
          "base_uri": "https://localhost:8080/"
        },
        "id": "SmujgpUC-twT",
        "outputId": "f0fdd8be-31ff-4922-8d41-410580e63d7c"
      },
      "execution_count": null,
      "outputs": [
        {
          "output_type": "stream",
          "name": "stdout",
          "text": [
            "After removing 10 and 30 from S1: {50, 66, 20, 55, 40, 60}\n"
          ]
        }
      ]
    },
    {
      "cell_type": "markdown",
      "source": [
        "3.3"
      ],
      "metadata": {
        "id": "IdHhyOj2-t_Q"
      }
    },
    {
      "cell_type": "code",
      "source": [
        "if 40 in S1:\n",
        "    print(\"40 is present in S1.\")\n",
        "else:\n",
        "    print(\"40 is not present in S1.\")\n"
      ],
      "metadata": {
        "colab": {
          "base_uri": "https://localhost:8080/"
        },
        "id": "rY7iK1LF-u4c",
        "outputId": "7c762146-985e-4884-87b9-35ec8bdcc391"
      },
      "execution_count": null,
      "outputs": [
        {
          "output_type": "stream",
          "name": "stdout",
          "text": [
            "40 is present in S1.\n"
          ]
        }
      ]
    },
    {
      "cell_type": "markdown",
      "source": [
        "3.4"
      ],
      "metadata": {
        "id": "F8bcBC45-wEy"
      }
    },
    {
      "cell_type": "code",
      "source": [
        "S2 = {40, 50, 60, 70, 80, 90}\n",
        "union = S1.union(S2)\n",
        "print(\"Union of S1 and S2:\", union)"
      ],
      "metadata": {
        "colab": {
          "base_uri": "https://localhost:8080/"
        },
        "id": "a61WpAy7-xBD",
        "outputId": "b6b219d1-5c34-4db2-91a0-e4c96783fc74"
      },
      "execution_count": null,
      "outputs": [
        {
          "output_type": "stream",
          "name": "stdout",
          "text": [
            "Union of S1 and S2: {66, 70, 40, 80, 50, 20, 55, 90, 60}\n"
          ]
        }
      ]
    },
    {
      "cell_type": "markdown",
      "source": [
        "3.5"
      ],
      "metadata": {
        "id": "UOxAAAWM-xdV"
      }
    },
    {
      "cell_type": "code",
      "source": [
        "intersection = S1.intersection(S2)\n",
        "print(\"Intersection of S1 and S2:\", intersection)"
      ],
      "metadata": {
        "colab": {
          "base_uri": "https://localhost:8080/"
        },
        "id": "gOBW-nD4-yOl",
        "outputId": "3470da89-234c-4656-c277-ee02a4a2a9fe"
      },
      "execution_count": null,
      "outputs": [
        {
          "output_type": "stream",
          "name": "stdout",
          "text": [
            "Intersection of S1 and S2: {40, 50, 60}\n"
          ]
        }
      ]
    },
    {
      "cell_type": "markdown",
      "source": [
        "3.6"
      ],
      "metadata": {
        "id": "KVyZocpU-yxW"
      }
    },
    {
      "cell_type": "code",
      "source": [
        "difference = S1.difference(S2)\n",
        "print(\"Difference of S1 and S2:\", difference)"
      ],
      "metadata": {
        "colab": {
          "base_uri": "https://localhost:8080/"
        },
        "id": "847pQmH4-zjf",
        "outputId": "bad1aee4-f87a-432f-988d-a70bfc685ce6"
      },
      "execution_count": null,
      "outputs": [
        {
          "output_type": "stream",
          "name": "stdout",
          "text": [
            "Difference of S1 and S2: {66, 20, 55}\n"
          ]
        }
      ]
    },
    {
      "cell_type": "markdown",
      "source": [
        "4.1"
      ],
      "metadata": {
        "id": "9r-Mw2l9Aes-"
      }
    },
    {
      "cell_type": "code",
      "source": [
        "import random\n",
        "import string\n",
        "\n",
        "def generate_random_string(min_length, max_length):\n",
        "    length = random.randint(min_length, max_length)\n",
        "    random_string = ''.join(random.choices(string.ascii_letters + string.digits, k=length))\n",
        "    return random_string\n",
        "\n",
        "def generate_random_strings(num_strings, min_length, max_length):\n",
        "    random_strings = []\n",
        "    for _ in range(num_strings):\n",
        "        random_strings.append(generate_random_string(min_length, max_length))\n",
        "    return random_strings\n",
        "\n",
        "# Generate 100 random strings\n",
        "random_strings = generate_random_strings(100, 6, 8)\n",
        "\n",
        "# Print the random strings\n",
        "for string in random_strings:\n",
        "    print(string)\n"
      ],
      "metadata": {
        "colab": {
          "base_uri": "https://localhost:8080/"
        },
        "id": "Ka6T68tWAgLP",
        "outputId": "9dd1db7e-091e-4e8e-aade-eba7771de8f8"
      },
      "execution_count": null,
      "outputs": [
        {
          "output_type": "stream",
          "name": "stdout",
          "text": [
            "ZZ6Exs\n",
            "FuP4Nj90\n",
            "FaBANNn\n",
            "Xm0DqQ\n",
            "jckIVbJn\n",
            "CqOm1p\n",
            "3Ymt3yF\n",
            "mbe25O\n",
            "eTB5iaFZ\n",
            "8WeAbMr8\n",
            "xQkwiy\n",
            "SKKfDKxM\n",
            "BebYbMrw\n",
            "KsBVle\n",
            "M9ZlRflC\n",
            "cB6nuPF\n",
            "AjLw6JrL\n",
            "o5YGWh\n",
            "2UDq3Gbb\n",
            "6XROIAEA\n",
            "hUM4iUXO\n",
            "O8REYUMx\n",
            "RJqvpiJ8\n",
            "IhjpGbwO\n",
            "NtjvO6\n",
            "MPMSCwN\n",
            "9sfbRwkT\n",
            "aksUZ2D\n",
            "8lzMDDv\n",
            "NkZehG\n",
            "33pV93q\n",
            "228z5Gnk\n",
            "7gRtEt\n",
            "ke7mcbJ3\n",
            "rLRAWPrm\n",
            "jW0AXtGa\n",
            "gZZjnChq\n",
            "ntyKk9\n",
            "UkJCoLYT\n",
            "tnrCelK\n",
            "pe2n7Swp\n",
            "73OFUi8d\n",
            "QSOUHZ\n",
            "wcJJQU\n",
            "I7uMZ9\n",
            "MIJB6a\n",
            "xi3PIwK\n",
            "2OVUutzr\n",
            "ClVSpQQ\n",
            "LmwHm9\n",
            "ccv2DOYt\n",
            "TmRZZl\n",
            "Blxl6Zx0\n",
            "EQ2r359d\n",
            "L4iC9bX\n",
            "k9auSPF\n",
            "fDnSnd7R\n",
            "Ipcvxfc\n",
            "0yFQv08\n",
            "AAIsiVp\n",
            "xT7Wim\n",
            "ISVgcI\n",
            "W05LvV5\n",
            "EVafVY\n",
            "PldgoUBW\n",
            "6zqt8uW\n",
            "Zacvz4XI\n",
            "dWHhCUXc\n",
            "Uwzn7WOH\n",
            "aQlTUYl\n",
            "b7yGN0F\n",
            "RJsFKYb\n",
            "oDRL4Q\n",
            "tMzEC0\n",
            "g9OY4X\n",
            "Aon114tl\n",
            "Bj0tcSt\n",
            "K4VmfQpw\n",
            "5n1wytX\n",
            "LP9kE35A\n",
            "VGd4HlHj\n",
            "xEtItMN\n",
            "PiCUiYA5\n",
            "wYjN2Pr1\n",
            "CKF5wVVG\n",
            "acew9F\n",
            "pfJJgkll\n",
            "E5T1hv\n",
            "PoL2q7h\n",
            "6lPlyrOX\n",
            "33cd02\n",
            "QjC7IaoT\n",
            "KovD1OZk\n",
            "l7APikH\n",
            "CQzG2Ah\n",
            "xa6CAn\n",
            "d51jcP\n",
            "nWHSW8t\n",
            "ptwDFjP\n",
            "7K7Oasem\n"
          ]
        }
      ]
    },
    {
      "cell_type": "markdown",
      "source": [
        "4.2"
      ],
      "metadata": {
        "id": "Nxb0mHeOAiBx"
      }
    },
    {
      "cell_type": "code",
      "source": [
        "def is_prime(num):\n",
        "    if num < 2:\n",
        "        return False\n",
        "    for i in range(2, int(math.sqrt(num)) + 1):\n",
        "        if num % i == 0:\n",
        "            return False\n",
        "    return True\n",
        "\n",
        "print(\"Prime numbers between 600 and 800:\")\n",
        "for num in range(600, 801):\n",
        "    if is_prime(num):\n",
        "        print(num)\n",
        "\n"
      ],
      "metadata": {
        "colab": {
          "base_uri": "https://localhost:8080/"
        },
        "id": "wL1jvSf4Ait0",
        "outputId": "716a8bfd-5c29-4377-dd63-64ef6d32bcda"
      },
      "execution_count": null,
      "outputs": [
        {
          "output_type": "stream",
          "name": "stdout",
          "text": [
            "Prime numbers between 600 and 800:\n",
            "601\n",
            "607\n",
            "613\n",
            "617\n",
            "619\n",
            "631\n",
            "641\n",
            "643\n",
            "647\n",
            "653\n",
            "659\n",
            "661\n",
            "673\n",
            "677\n",
            "683\n",
            "691\n",
            "701\n",
            "709\n",
            "719\n",
            "727\n",
            "733\n",
            "739\n",
            "743\n",
            "751\n",
            "757\n",
            "761\n",
            "769\n",
            "773\n",
            "787\n",
            "797\n"
          ]
        }
      ]
    },
    {
      "cell_type": "markdown",
      "source": [
        "4.3"
      ],
      "metadata": {
        "id": "aS-1Ul8oBcIf"
      }
    },
    {
      "cell_type": "code",
      "source": [
        "\n",
        "print(\"Numbers between 100 and 1000 divisible by 7 and 9:\")\n",
        "for num in range(100, 1001):\n",
        "    if num % 7 == 0 and num % 9 == 0:\n",
        "        print(num)"
      ],
      "metadata": {
        "colab": {
          "base_uri": "https://localhost:8080/"
        },
        "id": "90wKiFY6BdoZ",
        "outputId": "fba3451c-d84a-42e1-9e65-67711bad0ef3"
      },
      "execution_count": null,
      "outputs": [
        {
          "output_type": "stream",
          "name": "stdout",
          "text": [
            "Numbers between 100 and 1000 divisible by 7 and 9:\n",
            "126\n",
            "189\n",
            "252\n",
            "315\n",
            "378\n",
            "441\n",
            "504\n",
            "567\n",
            "630\n",
            "693\n",
            "756\n",
            "819\n",
            "882\n",
            "945\n"
          ]
        }
      ]
    },
    {
      "cell_type": "markdown",
      "source": [
        "5.1"
      ],
      "metadata": {
        "id": "FZv_S--EBiGl"
      }
    },
    {
      "cell_type": "code",
      "source": [
        "list1 = random.sample(range(10, 31), 10)\n",
        "list2 = random.sample(range(10, 31), 10)\n",
        "\n",
        "print(\"List 1:\", list1)\n",
        "print(\"List 2:\", list2)\n",
        "common_numbers = list(set(list1) & set(list2))\n",
        "print(\"Common numbers:\", common_numbers)\n"
      ],
      "metadata": {
        "colab": {
          "base_uri": "https://localhost:8080/"
        },
        "id": "NCw9BD1VBkBU",
        "outputId": "83679f9a-3744-46cc-f631-93261c087105"
      },
      "execution_count": null,
      "outputs": [
        {
          "output_type": "stream",
          "name": "stdout",
          "text": [
            "List 1: [11, 10, 24, 13, 22, 21, 28, 23, 20, 26]\n",
            "List 2: [10, 28, 16, 11, 25, 20, 21, 22, 30, 15]\n",
            "Common numbers: [10, 11, 20, 21, 22, 28]\n"
          ]
        }
      ]
    },
    {
      "cell_type": "markdown",
      "source": [
        "5.2"
      ],
      "metadata": {
        "id": "6wUqi9cABmNm"
      }
    },
    {
      "cell_type": "code",
      "source": [
        "unique_numbers = list(set(list1) ^ set(list2))\n",
        "print(\"Unique numbers:\", unique_numbers)"
      ],
      "metadata": {
        "colab": {
          "base_uri": "https://localhost:8080/"
        },
        "id": "YB5lPmxaBnC9",
        "outputId": "381bed31-616e-41cc-87d4-7234a0153fc6"
      },
      "execution_count": null,
      "outputs": [
        {
          "output_type": "stream",
          "name": "stdout",
          "text": [
            "Unique numbers: [13, 15, 16, 23, 24, 25, 26, 30]\n"
          ]
        }
      ]
    },
    {
      "cell_type": "markdown",
      "source": [
        "5.3"
      ],
      "metadata": {
        "id": "LOdBbD-UBnhJ"
      }
    },
    {
      "cell_type": "code",
      "source": [
        "minimum_list1 = min(list1)\n",
        "minimum_list2 = min(list2)\n",
        "print(\"Minimum in List 1:\", minimum_list1)\n",
        "print(\"Minimum in List 2:\", minimum_list2)"
      ],
      "metadata": {
        "colab": {
          "base_uri": "https://localhost:8080/"
        },
        "id": "Rp475BPHBoOh",
        "outputId": "6453752f-86a3-4d14-ef16-aaaf433af227"
      },
      "execution_count": null,
      "outputs": [
        {
          "output_type": "stream",
          "name": "stdout",
          "text": [
            "Minimum in List 1: 10\n",
            "Minimum in List 2: 10\n"
          ]
        }
      ]
    },
    {
      "cell_type": "markdown",
      "source": [
        "5.4"
      ],
      "metadata": {
        "id": "YVzUgOBBBrvt"
      }
    },
    {
      "cell_type": "code",
      "source": [
        "maximum_list1 = max(list1)\n",
        "maximum_list2 = max(list2)\n",
        "print(\"Maximum in List 1:\", maximum_list1)\n",
        "print(\"Maximum in List 2:\", maximum_list2)"
      ],
      "metadata": {
        "colab": {
          "base_uri": "https://localhost:8080/"
        },
        "id": "TSUVeGe8BsfJ",
        "outputId": "dd315968-361f-42fe-fc8b-48586fbd3962"
      },
      "execution_count": null,
      "outputs": [
        {
          "output_type": "stream",
          "name": "stdout",
          "text": [
            "Maximum in List 1: 28\n",
            "Maximum in List 2: 30\n"
          ]
        }
      ]
    },
    {
      "cell_type": "markdown",
      "source": [
        "5.5"
      ],
      "metadata": {
        "id": "ioeSDTcVBtGb"
      }
    },
    {
      "cell_type": "code",
      "source": [
        "sum_lists = sum(list1) + sum(list2)\n",
        "print(\"Sum of both lists:\", sum_lists)"
      ],
      "metadata": {
        "colab": {
          "base_uri": "https://localhost:8080/"
        },
        "id": "FZBanfVkBtrf",
        "outputId": "8db8db3e-45f7-4841-a2bc-b837f9b49414"
      },
      "execution_count": null,
      "outputs": [
        {
          "output_type": "stream",
          "name": "stdout",
          "text": [
            "Sum of both lists: 396\n"
          ]
        }
      ]
    },
    {
      "cell_type": "markdown",
      "source": [
        "6.1"
      ],
      "metadata": {
        "id": "rXT_0YXxCVuO"
      }
    },
    {
      "cell_type": "code",
      "source": [
        "random_numbers = [random.randint(100, 900) for _ in range(100)]\n",
        "\n",
        "odd_numbers = [num for num in random_numbers if num % 2 != 0]\n",
        "odd_count = len(odd_numbers)\n",
        "print(\"Odd numbers:\", odd_numbers)\n",
        "print(\"Count of odd numbers:\", odd_count)"
      ],
      "metadata": {
        "colab": {
          "base_uri": "https://localhost:8080/"
        },
        "id": "_SHynDiZCWzP",
        "outputId": "ca35b65e-5d92-49df-f914-aaa13b34195c"
      },
      "execution_count": null,
      "outputs": [
        {
          "output_type": "stream",
          "name": "stdout",
          "text": [
            "Odd numbers: [431, 157, 149, 559, 743, 121, 491, 523, 255, 129, 413, 189, 819, 817, 595, 501, 471, 429, 515, 253, 351, 167, 471, 249, 669, 837, 321, 777, 869, 561, 625, 641, 179, 333, 687, 311, 173, 859, 459, 391, 315, 327, 141, 609, 483, 435]\n",
            "Count of odd numbers: 46\n"
          ]
        }
      ]
    },
    {
      "cell_type": "markdown",
      "source": [
        "6.2"
      ],
      "metadata": {
        "id": "VlNQ0Gt5CW_k"
      }
    },
    {
      "cell_type": "code",
      "source": [
        "even_numbers = [num for num in random_numbers if num % 2 == 0]\n",
        "even_count = len(even_numbers)\n",
        "print(\"Even numbers:\", even_numbers)\n",
        "print(\"Count of even numbers:\", even_count)"
      ],
      "metadata": {
        "colab": {
          "base_uri": "https://localhost:8080/"
        },
        "id": "us1CXPWhCX4S",
        "outputId": "f23059bb-fab8-455b-9610-934cec837eb4"
      },
      "execution_count": null,
      "outputs": [
        {
          "output_type": "stream",
          "name": "stdout",
          "text": [
            "Even numbers: [508, 168, 234, 232, 238, 452, 128, 782, 870, 546, 418, 344, 116, 508, 370, 246, 706, 820, 846, 250, 162, 730, 160, 826, 102, 526, 178, 808, 314, 786, 702, 446, 798, 804, 808, 158, 544, 682, 710, 332, 434, 550, 120, 292, 524, 646, 784, 722, 624, 114, 312, 794, 710, 436]\n",
            "Count of even numbers: 54\n"
          ]
        }
      ]
    },
    {
      "cell_type": "markdown",
      "source": [
        "6.3"
      ],
      "metadata": {
        "id": "TqTV697CCYJO"
      }
    },
    {
      "cell_type": "code",
      "source": [
        "def is_prime(num):\n",
        "    if num < 2:\n",
        "        return False\n",
        "    for i in range(2, int(math.sqrt(num)) + 1):\n",
        "        if num % i == 0:\n",
        "            return False\n",
        "    return True\n",
        "\n",
        "prime_numbers = [num for num in random_numbers if is_prime(num)]\n",
        "prime_count = len(prime_numbers)\n",
        "print(\"Prime numbers:\", prime_numbers)\n",
        "print(\"Count of prime numbers:\", prime_count)"
      ],
      "metadata": {
        "colab": {
          "base_uri": "https://localhost:8080/"
        },
        "id": "SpbhAigcCY63",
        "outputId": "2c1071c9-2e5b-4e7e-db2f-866749f16006"
      },
      "execution_count": null,
      "outputs": [
        {
          "output_type": "stream",
          "name": "stdout",
          "text": [
            "Prime numbers: [431, 157, 149, 743, 491, 523, 167, 641, 179, 311, 173, 859]\n",
            "Count of prime numbers: 12\n"
          ]
        }
      ]
    },
    {
      "cell_type": "markdown",
      "source": [
        "7"
      ],
      "metadata": {
        "id": "DWhNujx0Cqet"
      }
    },
    {
      "cell_type": "code",
      "source": [
        "D = {1: \"One\", 2: \"Two\", 3: \"Three\", 4: \"Four\", 5: \"Five\"}\n",
        "\n",
        "\n",
        "with open(\"dictionary_output.txt\", \"w\") as file:\n",
        "    \n",
        "    for key, value in D.items():\n",
        "        file.write(f\"Key{key}, Value{value} \")\n",
        "\n",
        "\n",
        "print(\"Keys and values written to the file.\")"
      ],
      "metadata": {
        "colab": {
          "base_uri": "https://localhost:8080/"
        },
        "id": "P782SFajC0aq",
        "outputId": "3fca3b09-42a4-4a9f-961d-7c2d8cb3c76a"
      },
      "execution_count": null,
      "outputs": [
        {
          "output_type": "stream",
          "name": "stdout",
          "text": [
            "Keys and values written to the file.\n"
          ]
        }
      ]
    },
    {
      "cell_type": "markdown",
      "source": [
        "8"
      ],
      "metadata": {
        "id": "_2p5VsuzC1gB"
      }
    },
    {
      "cell_type": "code",
      "source": [
        "L = [\"One\", \"Two\", \"Three\", \"Four\", \"Five\"]\n",
        "\n",
        "# Open the file in write mode\n",
        "with open(\"element_length.txt\", \"w\") as file:\n",
        "    # Iterate over the list and write the element and its length in the desired format\n",
        "    for element in L:\n",
        "        length = len(element)\n",
        "        file.write(f\"{element}, {length} \")\n",
        "\n",
        "# Notify the user that the operation is complete\n",
        "print(\"Element lengths written to the file.\")"
      ],
      "metadata": {
        "colab": {
          "base_uri": "https://localhost:8080/"
        },
        "id": "eZ42fykSC4p7",
        "outputId": "4a2f57ce-fa45-4abe-c364-06e7d1be13e4"
      },
      "execution_count": null,
      "outputs": [
        {
          "output_type": "stream",
          "name": "stdout",
          "text": [
            "Element lengths written to the file.\n"
          ]
        }
      ]
    },
    {
      "cell_type": "markdown",
      "source": [
        "9"
      ],
      "metadata": {
        "id": "a7Upl_dPDAUA"
      }
    },
    {
      "cell_type": "code",
      "source": [
        "import random\n",
        "import string\n",
        "\n",
        "def generate_random_string(length):\n",
        "    letters = string.ascii_letters\n",
        "    return ''.join(random.choice(letters) for _ in range(length))\n",
        "\n",
        "\n",
        "with open(\"random_strings.txt\", \"w\") as file:\n",
        "    for _ in range(100):\n",
        "        length = random.randint(10, 15)\n",
        "        random_string = generate_random_string(length)\n",
        "        file.write(random_string + \"\\n\")\n",
        "\n",
        "\n",
        "print(\"Random strings written to the file.\")"
      ],
      "metadata": {
        "colab": {
          "base_uri": "https://localhost:8080/"
        },
        "id": "a6b-zal7DFX1",
        "outputId": "82bdf261-3609-4000-ec95-9bf1a2196652"
      },
      "execution_count": null,
      "outputs": [
        {
          "output_type": "stream",
          "name": "stdout",
          "text": [
            "Random strings written to the file.\n"
          ]
        }
      ]
    },
    {
      "cell_type": "markdown",
      "source": [
        "10"
      ],
      "metadata": {
        "id": "JScUL2SIDI4p"
      }
    },
    {
      "cell_type": "code",
      "source": [
        "import math\n",
        "\n",
        "def is_prime(num):\n",
        "    if num < 2:\n",
        "        return False\n",
        "    for i in range(2, int(math.sqrt(num)) + 1):\n",
        "        if num % i == 0:\n",
        "            return False\n",
        "    return True\n",
        "\n",
        "\n",
        "with open(\"prime_numbers.txt\", \"w\") as file:\n",
        "    for num in range(600, 801):\n",
        "        if is_prime(num):\n",
        "            file.write(str(num) + \"\\n\")\n",
        "            \n",
        "print(\"Prime numbers written to the file.\")"
      ],
      "metadata": {
        "colab": {
          "base_uri": "https://localhost:8080/"
        },
        "id": "v-nZ8ETfDLwn",
        "outputId": "0ebdc798-df8e-45bf-d0f6-026fc0ead8e2"
      },
      "execution_count": null,
      "outputs": [
        {
          "output_type": "stream",
          "name": "stdout",
          "text": [
            "Prime numbers written to the file.\n"
          ]
        }
      ]
    },
    {
      "cell_type": "markdown",
      "source": [
        "11"
      ],
      "metadata": {
        "id": "_JwVaLEVDL9n"
      }
    },
    {
      "cell_type": "code",
      "source": [
        "import time\n",
        "\n",
        "\n",
        "start_time = time.time()\n",
        "\n",
        "end_time = time.time()\n",
        "\n",
        "elapsed_time = end_time - start_time\n",
        "\n",
        "print(\"Elapsed time:\", elapsed_time, \"seconds\")"
      ],
      "metadata": {
        "colab": {
          "base_uri": "https://localhost:8080/"
        },
        "id": "BjZtorjUDMjg",
        "outputId": "4ba1f14b-77a2-49d8-dd16-fd348fe402bc"
      },
      "execution_count": null,
      "outputs": [
        {
          "output_type": "stream",
          "name": "stdout",
          "text": [
            "Elapsed time: 2.6226043701171875e-05 seconds\n"
          ]
        }
      ]
    },
    {
      "cell_type": "markdown",
      "source": [
        "12"
      ],
      "metadata": {
        "id": "dTDl-8VzDM2M"
      }
    },
    {
      "cell_type": "code",
      "source": [
        "import time\n",
        "import matplotlib.pyplot as plt\n",
        "\n",
        "def sort_list(lst):\n",
        "    start_time = time.time()\n",
        "    sorted_lst = sorted(lst)\n",
        "    end_time = time.time()\n",
        "    elapsed_time = end_time - start_time\n",
        "    return elapsed_time\n",
        "\n",
        "num_elements = [5000, 10000, 15000, 20000, 25000]\n",
        "time_taken = []\n",
        "\n",
        "for n in num_elements:\n",
        "    lst = list(range(n, 0, -1))  \n",
        "    t = sort_list(lst)\n",
        "    time_taken.append(t)\n",
        "\n",
        "\n",
        "plt.plot(num_elements, time_taken, marker='o')\n",
        "plt.xlabel('Number of Elements')\n",
        "plt.ylabel('Time Taken (seconds)')\n",
        "plt.title('Sorting Time vs Number of Elements')\n",
        "plt.show()"
      ],
      "metadata": {
        "colab": {
          "base_uri": "https://localhost:8080/",
          "height": 472
        },
        "id": "FoujiVy3DPah",
        "outputId": "c5415d62-7df9-438e-e350-3483ae260638"
      },
      "execution_count": null,
      "outputs": [
        {
          "output_type": "display_data",
          "data": {
            "text/plain": [
              "<Figure size 640x480 with 1 Axes>"
            ],
            "image/png": "[encoded data removed]"
          },
          "metadata": {}
        }
      ]
    },
    {
      "cell_type": "markdown",
      "source": [
        "13"
      ],
      "metadata": {
        "id": "TqLJYryRDPsF"
      }
    },
    {
      "cell_type": "code",
      "source": [
        "student_marks = {\n",
        "    'Jerry': [80, 85, 90, 92, 78],\n",
        "    'Emily': [92, 88, 95, 76, 84],\n",
        "    'Mike': [78, 92, 80, 85, 90],\n",
        "    'Sonya': [86, 79, 88, 92, 80],\n",
        "    'Willy': [90, 82, 85, 88, 92]\n",
        "}\n",
        "\n",
        "\n",
        "average_marks = {}\n",
        "\n",
        "for student, marks in student_marks.items():\n",
        "    average = sum(marks) / len(marks)\n",
        "    average_marks[student] = average\n",
        "\n",
        "max_student = max(average_marks, key=average_marks.get)\n",
        "min_student = min(average_marks, key=average_marks.get)\n",
        "\n",
        "\n",
        "print(\"Student with maximum average marks:\", max_student)\n",
        "print(\"Student with minimum average marks:\", min_student)"
      ],
      "metadata": {
        "colab": {
          "base_uri": "https://localhost:8080/"
        },
        "id": "JjAKScDGDQJC",
        "outputId": "53732d08-a6ae-4779-8ab1-a4e6062cf255"
      },
      "execution_count": null,
      "outputs": [
        {
          "output_type": "stream",
          "name": "stdout",
          "text": [
            "Student with maximum average marks: Willy\n",
            "Student with minimum average marks: Jerry\n"
          ]
        }
      ]
    },
    {
      "cell_type": "markdown",
      "source": [
        "Assignment- 02"
      ],
      "metadata": {
        "id": "zW_kmxaLDxls"
      }
    },
    {
      "cell_type": "markdown",
      "source": [
        "1"
      ],
      "metadata": {
        "id": "uZs5Qr7HD0-g"
      }
    },
    {
      "cell_type": "code",
      "source": [
        "L=[\"Ram\",1,\"Shyam\",2,\"Aman\",3]\n",
        "print(L)\n",
        "L.sort()\n",
        "print(L)"
      ],
      "metadata": {
        "colab": {
          "base_uri": "https://localhost:8080/",
          "height": 235
        },
        "id": "8MCSX5eoETzc",
        "outputId": "0843e50b-9c4c-4283-a2a0-171ae0fca3e3"
      },
      "execution_count": null,
      "outputs": [
        {
          "output_type": "stream",
          "name": "stdout",
          "text": [
            "['Ram', 1, 'Shyam', 2, 'Aman', 3]\n"
          ]
        },
        {
          "output_type": "error",
          "ename": "TypeError",
          "evalue": "ignored",
          "traceback": [
            "\u001b[0;31m---------------------------------------------------------------------------\u001b[0m",
            "\u001b[0;31mTypeError\u001b[0m                                 Traceback (most recent call last)",
            "\u001b[0;32m<ipython-input-61-a1aa7321deab>\u001b[0m in \u001b[0;36m<cell line: 3>\u001b[0;34m()\u001b[0m\n\u001b[1;32m      1\u001b[0m \u001b[0mL\u001b[0m\u001b[0;34m=\u001b[0m\u001b[0;34m[\u001b[0m\u001b[0;34m\"Ram\"\u001b[0m\u001b[0;34m,\u001b[0m\u001b[0;36m1\u001b[0m\u001b[0;34m,\u001b[0m\u001b[0;34m\"Shyam\"\u001b[0m\u001b[0;34m,\u001b[0m\u001b[0;36m2\u001b[0m\u001b[0;34m,\u001b[0m\u001b[0;34m\"Aman\"\u001b[0m\u001b[0;34m,\u001b[0m\u001b[0;36m3\u001b[0m\u001b[0;34m]\u001b[0m\u001b[0;34m\u001b[0m\u001b[0;34m\u001b[0m\u001b[0m\n\u001b[1;32m      2\u001b[0m \u001b[0mprint\u001b[0m\u001b[0;34m(\u001b[0m\u001b[0mL\u001b[0m\u001b[0;34m)\u001b[0m\u001b[0;34m\u001b[0m\u001b[0;34m\u001b[0m\u001b[0m\n\u001b[0;32m----> 3\u001b[0;31m \u001b[0mL\u001b[0m\u001b[0;34m.\u001b[0m\u001b[0msort\u001b[0m\u001b[0;34m(\u001b[0m\u001b[0;34m)\u001b[0m\u001b[0;34m\u001b[0m\u001b[0;34m\u001b[0m\u001b[0m\n\u001b[0m\u001b[1;32m      4\u001b[0m \u001b[0mprint\u001b[0m\u001b[0;34m(\u001b[0m\u001b[0mL\u001b[0m\u001b[0;34m)\u001b[0m\u001b[0;34m\u001b[0m\u001b[0;34m\u001b[0m\u001b[0m\n",
            "\u001b[0;31mTypeError\u001b[0m: '<' not supported between instances of 'int' and 'str'"
          ]
        }
      ]
    },
    {
      "cell_type": "code",
      "source": [
        "#we have to convert the list into int for sorting \n",
        "del L[0]\n",
        "del L[1]\n",
        "del L[2]\n",
        "print(L)\n",
        "L.sort()\n",
        "print(L)"
      ],
      "metadata": {
        "colab": {
          "base_uri": "https://localhost:8080/"
        },
        "id": "7UXkyW4XEqhs",
        "outputId": "94de923f-a52a-4cd6-fe23-2359dd48b547"
      },
      "execution_count": null,
      "outputs": [
        {
          "output_type": "stream",
          "name": "stdout",
          "text": [
            "[1, 2, 3]\n",
            "[1, 2, 3]\n"
          ]
        }
      ]
    }
  ]
}